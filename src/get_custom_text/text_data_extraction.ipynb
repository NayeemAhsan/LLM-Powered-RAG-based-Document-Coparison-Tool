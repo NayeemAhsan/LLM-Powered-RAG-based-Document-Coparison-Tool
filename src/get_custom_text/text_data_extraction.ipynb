{
 "cells": [
  {
   "cell_type": "code",
   "execution_count": 1,
   "id": "16b70c0a",
   "metadata": {},
   "outputs": [],
   "source": [
    "# Import libraries\n",
    "import sys\n",
    "import os\n",
    "import yaml\n",
    "from dotenv import load_dotenv, find_dotenv\n",
    "\n",
    "# Add the src directory to sys.path\n",
    "sys.path.append(os.path.abspath(os.path.join(os.getcwd(), '..')))"
   ]
  },
  {
   "cell_type": "code",
   "execution_count": 2,
   "id": "3425de0b",
   "metadata": {},
   "outputs": [],
   "source": [
    "# Import custom modules\n",
    "from get_custom_text.buildCustomModel import build_model as build\n",
    "from get_custom_text.extract_custom_doc import analyze_custom_documents as analyze\n",
    "from get_custom_text.analyze_custom_doc_main import main as main"
   ]
  },
  {
   "cell_type": "code",
   "execution_count": null,
   "id": "fd68adec",
   "metadata": {},
   "outputs": [],
   "source": [
    "# Load the config file\n",
    "with open('/home/config.yaml') as yaml_file:\n",
    "    config = yaml.safe_load(yaml_file)"
   ]
  },
  {
   "cell_type": "code",
   "execution_count": 4,
   "id": "289004dd",
   "metadata": {},
   "outputs": [
    {
     "data": {
      "text/plain": [
       "True"
      ]
     },
     "execution_count": 4,
     "metadata": {},
     "output_type": "execute_result"
    }
   ],
   "source": [
    "# Explicitly load the .env file\n",
    "dotenv_path = find_dotenv()\n",
    "if not dotenv_path:\n",
    "    raise FileNotFoundError(\".env file not found. Please ensure it exists in the project directory.\")\n",
    "load_dotenv(dotenv_path)\n",
    "\n",
    "# Debugging: Print the path to the .env file and its contents\n",
    "# print(f\".env file loaded from: {dotenv_path}\")\n",
    "# with open(dotenv_path, 'r') as f:\n",
    "#     print(f\".env file contents:\\n{f.read()}\")"
   ]
  },
  {
   "cell_type": "markdown",
   "id": "51336ec1",
   "metadata": {},
   "source": [
    "\n",
    "Build a custom model by training"
   ]
  },
  {
   "cell_type": "code",
   "execution_count": 5,
   "id": "a212dc0f",
   "metadata": {},
   "outputs": [],
   "source": [
    "training_insurance_doc = os.environ.get(\"training_folder_SAS_URI\")"
   ]
  },
  {
   "cell_type": "code",
   "execution_count": null,
   "id": "7090493b",
   "metadata": {},
   "outputs": [],
   "source": [
    "build(training_insurance_doc)"
   ]
  },
  {
   "cell_type": "markdown",
   "id": "240eff84",
   "metadata": {},
   "source": [
    "Extract boarding pass info from the custom model"
   ]
  },
  {
   "cell_type": "code",
   "execution_count": 7,
   "id": "5848f150",
   "metadata": {},
   "outputs": [],
   "source": [
    "model_id = config['doc_intelligence']['custom_models']['custom_insurance_model_1']\n",
    "if model_id is None:\n",
    "        model_id = build(training_insurance_doc)\n",
    "\n",
    "path_to_id_document = os.getenv(\"file_path_to_doc\")\n",
    "# Verify if the file exists at the specified path\n",
    "if not os.path.exists(path_to_id_document):\n",
    "    raise FileNotFoundError(f\"The file at path '{path_to_id_document}' does not exist. Please check the file path.\")"
   ]
  },
  {
   "cell_type": "code",
   "execution_count": null,
   "id": "a5a1144b",
   "metadata": {},
   "outputs": [],
   "source": [
    "# Analyze the document\n",
    "analyze(model_id, path_to_id_document)"
   ]
  },
  {
   "cell_type": "code",
   "execution_count": 17,
   "id": "3191a17a",
   "metadata": {},
   "outputs": [
    {
     "name": "stdout",
     "output_type": "stream",
     "text": [
      "Environment variable 'file_path_to_doc': data/insurance_docs/insurance_policy_10.pdf\n"
     ]
    }
   ],
   "source": [
    "# Debugging: Print the value of the environment variable\n",
    "print(f\"Environment variable 'file_path_to_doc': {path_to_id_document}\")"
   ]
  },
  {
   "cell_type": "markdown",
   "id": "86c2b226",
   "metadata": {},
   "source": [
    "Run the main file"
   ]
  },
  {
   "cell_type": "code",
   "execution_count": null,
   "id": "2e5c0270",
   "metadata": {},
   "outputs": [],
   "source": [
    "main(path_to_id_document, model_id, training_insurance_doc)"
   ]
  }
 ],
 "metadata": {
  "kernelspec": {
   "display_name": "azure-ai",
   "language": "python",
   "name": "python3"
  },
  "language_info": {
   "codemirror_mode": {
    "name": "ipython",
    "version": 3
   },
   "file_extension": ".py",
   "mimetype": "text/x-python",
   "name": "python",
   "nbconvert_exporter": "python",
   "pygments_lexer": "ipython3",
   "version": "3.12.3"
  }
 },
 "nbformat": 4,
 "nbformat_minor": 5
}
