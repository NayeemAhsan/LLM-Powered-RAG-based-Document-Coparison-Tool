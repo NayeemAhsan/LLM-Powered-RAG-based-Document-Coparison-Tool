{
 "cells": [
  {
   "cell_type": "code",
   "execution_count": 1,
   "id": "16b70c0a",
   "metadata": {},
   "outputs": [],
   "source": [
    "# Import libraries\n",
    "import sys\n",
    "import os\n",
    "import yaml\n",
    "from dotenv import load_dotenv, find_dotenv\n",
    "\n",
    "# Add the src directory to sys.path\n",
    "sys.path.append(os.path.abspath(os.path.join(os.getcwd(), '..')))"
   ]
  },
  {
   "cell_type": "code",
   "execution_count": 2,
   "id": "3425de0b",
   "metadata": {},
   "outputs": [],
   "source": [
    "# Import custom modules\n",
    "from get_custom_text.buildCustomModel import build_model as build\n",
    "from get_custom_text.extract_custom_doc import analyze_custom_documents as analyze\n",
    "from get_custom_text.analyze_custom_doc_main import main as main"
   ]
  },
  {
   "cell_type": "code",
   "execution_count": 3,
   "id": "fd68adec",
   "metadata": {},
   "outputs": [],
   "source": [
    "# Load the config file\n",
    "with open('/home/mnahsan21/projects/project_1/LLM_Powered-RAG-based-Document-Coparison-Tool-AzureFriendly/config.yaml') as yaml_file:\n",
    "    config = yaml.safe_load(yaml_file)"
   ]
  },
  {
   "cell_type": "code",
   "execution_count": 4,
   "id": "289004dd",
   "metadata": {},
   "outputs": [
    {
     "data": {
      "text/plain": [
       "True"
      ]
     },
     "execution_count": 4,
     "metadata": {},
     "output_type": "execute_result"
    }
   ],
   "source": [
    "# Explicitly load the .env file\n",
    "dotenv_path = find_dotenv()\n",
    "if not dotenv_path:\n",
    "    raise FileNotFoundError(\".env file not found. Please ensure it exists in the project directory.\")\n",
    "load_dotenv(dotenv_path)\n",
    "\n",
    "# Debugging: Print the path to the .env file and its contents\n",
    "# print(f\".env file loaded from: {dotenv_path}\")\n",
    "# with open(dotenv_path, 'r') as f:\n",
    "#     print(f\".env file contents:\\n{f.read()}\")"
   ]
  },
  {
   "cell_type": "markdown",
   "id": "51336ec1",
   "metadata": {},
   "source": [
    "\n",
    "Build a custom model by training"
   ]
  },
  {
   "cell_type": "code",
   "execution_count": 5,
   "id": "a212dc0f",
   "metadata": {},
   "outputs": [],
   "source": [
    "training_insurance_doc = os.environ.get(\"training_folder_SAS_URI\")"
   ]
  },
  {
   "cell_type": "code",
   "execution_count": null,
   "id": "7090493b",
   "metadata": {},
   "outputs": [],
   "source": [
    "build(training_insurance_doc)"
   ]
  },
  {
   "cell_type": "markdown",
   "id": "240eff84",
   "metadata": {},
   "source": [
    "Extract boarding pass info from the custom model"
   ]
  },
  {
   "cell_type": "code",
   "execution_count": 6,
   "id": "5848f150",
   "metadata": {},
   "outputs": [],
   "source": [
    "model_id = config['doc_intelligence']['custom_models']['custom_insurance_model_1']\n",
    "if model_id is None:\n",
    "        model_id = build(training_insurance_doc)\n",
    "\n",
    "path_to_id_document = os.getenv(\"file_path_to_doc\")\n",
    "# Verify if the file exists at the specified path\n",
    "if not os.path.exists(path_to_id_document):\n",
    "    raise FileNotFoundError(f\"The file at path '{path_to_id_document}' does not exist. Please check the file path.\")"
   ]
  },
  {
   "cell_type": "code",
   "execution_count": null,
   "id": "a5a1144b",
   "metadata": {},
   "outputs": [],
   "source": [
    "# Analyze the document\n",
    "analyze(model_id, path_to_id_document)"
   ]
  },
  {
   "cell_type": "code",
   "execution_count": 17,
   "id": "3191a17a",
   "metadata": {},
   "outputs": [
    {
     "name": "stdout",
     "output_type": "stream",
     "text": [
      "Environment variable 'file_path_to_doc': data/insurance_docs/insurance_policy_10.pdf\n"
     ]
    }
   ],
   "source": [
    "# Debugging: Print the value of the environment variable\n",
    "print(f\"Environment variable 'file_path_to_doc': {path_to_id_document}\")"
   ]
  },
  {
   "cell_type": "markdown",
   "id": "86c2b226",
   "metadata": {},
   "source": [
    "Run the main file"
   ]
  },
  {
   "cell_type": "code",
   "execution_count": 7,
   "id": "2e5c0270",
   "metadata": {},
   "outputs": [
    {
     "name": "stderr",
     "output_type": "stream",
     "text": [
      "2025-04-09 17:13:18,499 Build a custom model if no existing model is specified\n",
      "2025-04-09 17:13:18,507 Extract text based on the custom model\n",
      "2025-04-09 17:13:18,507 Extract text based on the custom model\n",
      "2025-04-09 17:13:18,718 Request URL: 'https://nws-practice-01.cognitiveservices.azure.com//documentintelligence/documentModels/5643b277-4d45-493f-92ad-5e51e3696686:analyze?api-version=REDACTED'\n",
      "Request method: 'POST'\n",
      "Request headers:\n",
      "    'content-type': 'application/octet-stream'\n",
      "    'Accept': 'application/json'\n",
      "    'x-ms-client-request-id': '75a7c41c-1587-11f0-8b16-00155de97cd1'\n",
      "    'User-Agent': 'azsdk-python-ai-documentintelligence/1.0.0b4 Python/3.12.3 (Linux-5.15.167.4-microsoft-standard-WSL2-x86_64-with-glibc2.35)'\n",
      "    'Ocp-Apim-Subscription-Key': 'REDACTED'\n",
      "A body is sent with the request\n",
      "2025-04-09 17:13:18,718 Request URL: 'https://nws-practice-01.cognitiveservices.azure.com//documentintelligence/documentModels/5643b277-4d45-493f-92ad-5e51e3696686:analyze?api-version=REDACTED'\n",
      "Request method: 'POST'\n",
      "Request headers:\n",
      "    'content-type': 'application/octet-stream'\n",
      "    'Accept': 'application/json'\n",
      "    'x-ms-client-request-id': '75a7c41c-1587-11f0-8b16-00155de97cd1'\n",
      "    'User-Agent': 'azsdk-python-ai-documentintelligence/1.0.0b4 Python/3.12.3 (Linux-5.15.167.4-microsoft-standard-WSL2-x86_64-with-glibc2.35)'\n",
      "    'Ocp-Apim-Subscription-Key': 'REDACTED'\n",
      "A body is sent with the request\n",
      "2025-04-09 17:13:19,023 Response status: 202\n",
      "Response headers:\n",
      "    'Content-Length': '0'\n",
      "    'Operation-Location': 'REDACTED'\n",
      "    'x-envoy-upstream-service-time': 'REDACTED'\n",
      "    'apim-request-id': 'REDACTED'\n",
      "    'Strict-Transport-Security': 'REDACTED'\n",
      "    'x-content-type-options': 'REDACTED'\n",
      "    'x-ms-region': 'REDACTED'\n",
      "    'Date': 'Wed, 09 Apr 2025 21:13:48 GMT'\n",
      "2025-04-09 17:13:19,028 Request URL: 'https://nws-practice-01.cognitiveservices.azure.com/documentintelligence/documentModels/5643b277-4d45-493f-92ad-5e51e3696686/analyzeResults/1d35f009-f7dc-4807-b2af-8833f63e121b?api-version=REDACTED'\n",
      "Request method: 'GET'\n",
      "Request headers:\n",
      "    'x-ms-client-request-id': '75a7c41c-1587-11f0-8b16-00155de97cd1'\n",
      "    'User-Agent': 'azsdk-python-ai-documentintelligence/1.0.0b4 Python/3.12.3 (Linux-5.15.167.4-microsoft-standard-WSL2-x86_64-with-glibc2.35)'\n",
      "    'Ocp-Apim-Subscription-Key': 'REDACTED'\n",
      "No body was attached to the request\n",
      "2025-04-09 17:13:19,023 Response status: 202\n",
      "Response headers:\n",
      "    'Content-Length': '0'\n",
      "    'Operation-Location': 'REDACTED'\n",
      "    'x-envoy-upstream-service-time': 'REDACTED'\n",
      "    'apim-request-id': 'REDACTED'\n",
      "    'Strict-Transport-Security': 'REDACTED'\n",
      "    'x-content-type-options': 'REDACTED'\n",
      "    'x-ms-region': 'REDACTED'\n",
      "    'Date': 'Wed, 09 Apr 2025 21:13:48 GMT'\n",
      "2025-04-09 17:13:19,028 Request URL: 'https://nws-practice-01.cognitiveservices.azure.com/documentintelligence/documentModels/5643b277-4d45-493f-92ad-5e51e3696686/analyzeResults/1d35f009-f7dc-4807-b2af-8833f63e121b?api-version=REDACTED'\n",
      "Request method: 'GET'\n",
      "Request headers:\n",
      "    'x-ms-client-request-id': '75a7c41c-1587-11f0-8b16-00155de97cd1'\n",
      "    'User-Agent': 'azsdk-python-ai-documentintelligence/1.0.0b4 Python/3.12.3 (Linux-5.15.167.4-microsoft-standard-WSL2-x86_64-with-glibc2.35)'\n",
      "    'Ocp-Apim-Subscription-Key': 'REDACTED'\n",
      "No body was attached to the request\n",
      "2025-04-09 17:13:19,082 Response status: 200\n",
      "Response headers:\n",
      "    'Content-Length': '106'\n",
      "    'Content-Type': 'application/json; charset=utf-8'\n",
      "    'retry-after': '1'\n",
      "    'x-envoy-upstream-service-time': 'REDACTED'\n",
      "    'apim-request-id': 'REDACTED'\n",
      "    'Strict-Transport-Security': 'REDACTED'\n",
      "    'x-content-type-options': 'REDACTED'\n",
      "    'x-ms-region': 'REDACTED'\n",
      "    'Date': 'Wed, 09 Apr 2025 21:13:48 GMT'\n",
      "2025-04-09 17:13:19,082 Response status: 200\n",
      "Response headers:\n",
      "    'Content-Length': '106'\n",
      "    'Content-Type': 'application/json; charset=utf-8'\n",
      "    'retry-after': '1'\n",
      "    'x-envoy-upstream-service-time': 'REDACTED'\n",
      "    'apim-request-id': 'REDACTED'\n",
      "    'Strict-Transport-Security': 'REDACTED'\n",
      "    'x-content-type-options': 'REDACTED'\n",
      "    'x-ms-region': 'REDACTED'\n",
      "    'Date': 'Wed, 09 Apr 2025 21:13:48 GMT'\n",
      "2025-04-09 17:13:20,087 Request URL: 'https://nws-practice-01.cognitiveservices.azure.com/documentintelligence/documentModels/5643b277-4d45-493f-92ad-5e51e3696686/analyzeResults/1d35f009-f7dc-4807-b2af-8833f63e121b?api-version=REDACTED'\n",
      "Request method: 'GET'\n",
      "Request headers:\n",
      "    'x-ms-client-request-id': '75a7c41c-1587-11f0-8b16-00155de97cd1'\n",
      "    'User-Agent': 'azsdk-python-ai-documentintelligence/1.0.0b4 Python/3.12.3 (Linux-5.15.167.4-microsoft-standard-WSL2-x86_64-with-glibc2.35)'\n",
      "    'Ocp-Apim-Subscription-Key': 'REDACTED'\n",
      "No body was attached to the request\n",
      "2025-04-09 17:13:20,087 Request URL: 'https://nws-practice-01.cognitiveservices.azure.com/documentintelligence/documentModels/5643b277-4d45-493f-92ad-5e51e3696686/analyzeResults/1d35f009-f7dc-4807-b2af-8833f63e121b?api-version=REDACTED'\n",
      "Request method: 'GET'\n",
      "Request headers:\n",
      "    'x-ms-client-request-id': '75a7c41c-1587-11f0-8b16-00155de97cd1'\n",
      "    'User-Agent': 'azsdk-python-ai-documentintelligence/1.0.0b4 Python/3.12.3 (Linux-5.15.167.4-microsoft-standard-WSL2-x86_64-with-glibc2.35)'\n",
      "    'Ocp-Apim-Subscription-Key': 'REDACTED'\n",
      "No body was attached to the request\n",
      "2025-04-09 17:13:20,137 Response status: 200\n",
      "Response headers:\n",
      "    'Content-Length': '106'\n",
      "    'Content-Type': 'application/json; charset=utf-8'\n",
      "    'retry-after': '1'\n",
      "    'x-envoy-upstream-service-time': 'REDACTED'\n",
      "    'apim-request-id': 'REDACTED'\n",
      "    'Strict-Transport-Security': 'REDACTED'\n",
      "    'x-content-type-options': 'REDACTED'\n",
      "    'x-ms-region': 'REDACTED'\n",
      "    'Date': 'Wed, 09 Apr 2025 21:13:49 GMT'\n",
      "2025-04-09 17:13:20,137 Response status: 200\n",
      "Response headers:\n",
      "    'Content-Length': '106'\n",
      "    'Content-Type': 'application/json; charset=utf-8'\n",
      "    'retry-after': '1'\n",
      "    'x-envoy-upstream-service-time': 'REDACTED'\n",
      "    'apim-request-id': 'REDACTED'\n",
      "    'Strict-Transport-Security': 'REDACTED'\n",
      "    'x-content-type-options': 'REDACTED'\n",
      "    'x-ms-region': 'REDACTED'\n",
      "    'Date': 'Wed, 09 Apr 2025 21:13:49 GMT'\n",
      "2025-04-09 17:13:21,140 Request URL: 'https://nws-practice-01.cognitiveservices.azure.com/documentintelligence/documentModels/5643b277-4d45-493f-92ad-5e51e3696686/analyzeResults/1d35f009-f7dc-4807-b2af-8833f63e121b?api-version=REDACTED'\n",
      "Request method: 'GET'\n",
      "Request headers:\n",
      "    'x-ms-client-request-id': '75a7c41c-1587-11f0-8b16-00155de97cd1'\n",
      "    'User-Agent': 'azsdk-python-ai-documentintelligence/1.0.0b4 Python/3.12.3 (Linux-5.15.167.4-microsoft-standard-WSL2-x86_64-with-glibc2.35)'\n",
      "    'Ocp-Apim-Subscription-Key': 'REDACTED'\n",
      "No body was attached to the request\n",
      "2025-04-09 17:13:21,140 Request URL: 'https://nws-practice-01.cognitiveservices.azure.com/documentintelligence/documentModels/5643b277-4d45-493f-92ad-5e51e3696686/analyzeResults/1d35f009-f7dc-4807-b2af-8833f63e121b?api-version=REDACTED'\n",
      "Request method: 'GET'\n",
      "Request headers:\n",
      "    'x-ms-client-request-id': '75a7c41c-1587-11f0-8b16-00155de97cd1'\n",
      "    'User-Agent': 'azsdk-python-ai-documentintelligence/1.0.0b4 Python/3.12.3 (Linux-5.15.167.4-microsoft-standard-WSL2-x86_64-with-glibc2.35)'\n",
      "    'Ocp-Apim-Subscription-Key': 'REDACTED'\n",
      "No body was attached to the request\n",
      "2025-04-09 17:13:21,201 Response status: 200\n",
      "Response headers:\n",
      "    'Content-Length': '12948'\n",
      "    'Content-Type': 'application/json; charset=utf-8'\n",
      "    'x-envoy-upstream-service-time': 'REDACTED'\n",
      "    'apim-request-id': 'REDACTED'\n",
      "    'Strict-Transport-Security': 'REDACTED'\n",
      "    'x-content-type-options': 'REDACTED'\n",
      "    'x-ms-region': 'REDACTED'\n",
      "    'Date': 'Wed, 09 Apr 2025 21:13:50 GMT'\n",
      "2025-04-09 17:13:21,201 Response status: 200\n",
      "Response headers:\n",
      "    'Content-Length': '12948'\n",
      "    'Content-Type': 'application/json; charset=utf-8'\n",
      "    'x-envoy-upstream-service-time': 'REDACTED'\n",
      "    'apim-request-id': 'REDACTED'\n",
      "    'Strict-Transport-Security': 'REDACTED'\n",
      "    'x-content-type-options': 'REDACTED'\n",
      "    'x-ms-region': 'REDACTED'\n",
      "    'Date': 'Wed, 09 Apr 2025 21:13:50 GMT'\n"
     ]
    },
    {
     "data": {
      "text/plain": [
       "[{'document_index': 1,\n",
       "  'doc_type': '5643b277-4d45-493f-92ad-5e51e3696686:5643b277-4d45-493f-92ad-5e51e3696686',\n",
       "  'confidence': 0.995,\n",
       "  'model_id': '5643b277-4d45-493f-92ad-5e51e3696686',\n",
       "  'fields': {'insured_carrier': {'value': 'Morgan-Powers',\n",
       "    'confidence': 0.993},\n",
       "   'no_of_accidents': {'value': '3', 'confidence': 0.994},\n",
       "   'insured_address': {'value': '20636 Manuel Gateway, New Gregory, TX 98218',\n",
       "    'confidence': 0.788},\n",
       "   'insured_premium': {'value': '$1,729.59', 'confidence': 0.995},\n",
       "   'insured_deductible': {'value': '$573.97', 'confidence': 0.995},\n",
       "   'insured_name': {'value': 'David Coleman', 'confidence': 0.992},\n",
       "   'insured_year': {'value': '2025', 'confidence': 0.995}}}]"
      ]
     },
     "execution_count": 7,
     "metadata": {},
     "output_type": "execute_result"
    }
   ],
   "source": [
    "main(path_to_id_document, model_id, training_insurance_doc)"
   ]
  }
 ],
 "metadata": {
  "kernelspec": {
   "display_name": "azure-ai",
   "language": "python",
   "name": "python3"
  },
  "language_info": {
   "codemirror_mode": {
    "name": "ipython",
    "version": 3
   },
   "file_extension": ".py",
   "mimetype": "text/x-python",
   "name": "python",
   "nbconvert_exporter": "python",
   "pygments_lexer": "ipython3",
   "version": "3.12.3"
  }
 },
 "nbformat": 4,
 "nbformat_minor": 5
}
